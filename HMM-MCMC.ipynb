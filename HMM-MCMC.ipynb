{
 "cells": [
  {
   "cell_type": "markdown",
   "metadata": {},
   "source": [
    "# CS 369 2019 \n",
    "\n",
    "\n",
    "Student: Stu Dent\n",
    "\n",
    "UPI: upi001\n",
    "\n",
    "\n",
    "## Assignment 4 : HMM & MCMC (13 + 2 points)\n",
    "\n",
    "\n",
    "In this assignment you will write code to implement\n",
    "- The forward and backward algorithms for hidden Markov models, \n",
    "- The MCMC algorithm to sample the posterior distribution. \n",
    "\n",
    "Plus 2 extra points for well commented code.\n",
    "\n",
    "Due: Wednesday 12th June at 23:59 \n"
   ]
  },
  {
   "cell_type": "markdown",
   "metadata": {},
   "source": [
    "### Instruction\n",
    "\n",
    "Please update your name and UPI above.  \n",
    "\n",
    "Write your submission in a Jupyter notebook and write any code in Python 3. You should submit the .ipynb file. The primary document the markers will look at is the .ipynb file.\n",
    "\n",
    "In your report, include explanations of what you are doing and comments in the code. Where you are making mathematical derivations, show your working.\n"
   ]
  },
  {
   "cell_type": "code",
   "execution_count": null,
   "metadata": {},
   "outputs": [],
   "source": [
    "from platform import python_version\n",
    "print(\"python\", python_version())\n",
    "\n",
    "import numpy as np\n",
    "print(\"numpy\", np.version.version)\n",
    "\n",
    "import pandas \n",
    "print(\"pandas\", pandas.__version__)\n",
    "\n",
    "import matplotlib\n",
    "print(\"matplotlib\", matplotlib.__version__)\n",
    "\n",
    "import scipy.stats\n",
    "print(\"scipy\", scipy.version.version)\n",
    "\n",
    "import math \n",
    "print(\"math\", hasattr(math, \"isfinite\"))\n",
    "\n",
    "%matplotlib inline\n",
    "import matplotlib.pyplot as plt \n"
   ]
  },
  {
   "cell_type": "markdown",
   "metadata": {},
   "source": [
    "## Question 1 HMM\n",
    "\n",
    "In Assignment 2, we introduced a simple HMM to model secondary structure in proteins with states $H,S,T$ and symbols $B,I,N$. Refer to that assignment for more detail about the model and its meaning. It has :\n",
    "\n",
    "transition probabilities __a__ = \n",
    "\n",
    "$$\n",
    "\\begin{pmatrix}\n",
    " & H & S & T\\\\\n",
    "H & 0.95 & 0.01 & 0.04\\\\\n",
    "S & 0.0333 & 0.9167 & 0.05\\\\\n",
    "T & 0.05 & 0.05 & 0.90\n",
    "\\end{pmatrix}\n",
    "$$\n",
    "\n",
    "and emission probabilites __e__ =\n",
    "\n",
    "$$\n",
    "\\begin{pmatrix}\n",
    " & B & I & N\\\\\n",
    "H & 0.35 & 0.55 & 0.10 \\\\\n",
    "S & 0.55 & 0.15 & 0.30 \\\\\n",
    "T & 0.10 & 0.10 & 0.80\n",
    "\\end{pmatrix}\n",
    "$$\n"
   ]
  },
  {
   "cell_type": "markdown",
   "metadata": {},
   "source": [
    "### i.  Simulate a HMM (2 points)\n",
    "\n",
    "Write a function `simulate_HMM` to simulate a state and symbol sequence pair ($\\pi$,$x$) of length 100. Print $\\pi$ and $x$ to output. Make sure that $\\pi$ has at least two runs of $H$s (you can set the random seed using `numpy.random.seed()` until you are happy with your sequence). You will use this simulated pair for the remainder of this question."
   ]
  },
  {
   "cell_type": "code",
   "execution_count": null,
   "metadata": {
    "deletable": false,
    "nbgrader": {
     "checksum": "a84f574c8d72eb815f661f4d599550ef",
     "grade": true,
     "grade_id": "simulate",
     "locked": false,
     "points": 1,
     "schema_version": 1,
     "solution": true
    }
   },
   "outputs": [],
   "source": [
    "# Simulates a HMM\n",
    "\n",
    "# Transition matrix a, emission matrix e, number of simulations n, starting state s\n",
    "def simulate_HMM(a, e, n, s):\n",
    "    \n",
    "    \"\"\"\n",
    "    return tuple of states and symbols.\n",
    "    \"\"\"\n",
    "\n",
    "    # your code here\n",
    "    raise NotImplementedError\n",
    "    # your code finished above\n",
    "    \n",
    "    # return tuple of states and symbols\n",
    "    return (\"\".join(states), \"\".join(symbols))\n"
   ]
  },
  {
   "cell_type": "code",
   "execution_count": null,
   "metadata": {
    "deletable": false,
    "nbgrader": {
     "checksum": "53c58cbb6138d1ef61c6f07116f45537",
     "grade": true,
     "grade_id": "simulate-test",
     "locked": false,
     "points": 1,
     "schema_version": 1,
     "solution": true
    }
   },
   "outputs": [],
   "source": [
    "# your code here\n",
    "raise NotImplementedError\n",
    "# your code finished above"
   ]
  },
  {
   "cell_type": "markdown",
   "metadata": {},
   "source": [
    "### ii. The forward algorithm (2 points)\n",
    "\n",
    "Write a function to implement the forward algorithm to return a forward table matrix $F$ and the probability $P(x)$ of the observing sequence $x$. You need to print $P(x)$ and make explicit if it is in a log space. $x$ is simulated by Question i. For forward algorithm examples, see Lecture 16 & Tutorial 6. \n"
   ]
  },
  {
   "cell_type": "code",
   "execution_count": null,
   "metadata": {
    "deletable": false,
    "nbgrader": {
     "checksum": "c6e0189077f7ea9e62bceeb633ce99bf",
     "grade": true,
     "grade_id": "forward",
     "locked": false,
     "points": 1,
     "schema_version": 1,
     "solution": true
    }
   },
   "outputs": [],
   "source": [
    "# your code here\n",
    "raise NotImplementedError\n",
    "# your code finished above"
   ]
  },
  {
   "cell_type": "code",
   "execution_count": null,
   "metadata": {
    "deletable": false,
    "nbgrader": {
     "checksum": "ef365a88e7795ead954c4c30c5bd0daf",
     "grade": true,
     "grade_id": "f-test",
     "locked": false,
     "points": 1,
     "schema_version": 1,
     "solution": true
    }
   },
   "outputs": [],
   "source": [
    "## for example, x = \"IIIINIIBB...\"\n",
    "\n",
    "# your code here\n",
    "raise NotImplementedError\n",
    "# your code finished above"
   ]
  },
  {
   "cell_type": "markdown",
   "metadata": {},
   "source": [
    "### iii. The backward algorithm (2 points)\n",
    "\n",
    "Write a function to implement the backward algorithm to return a matrix $B$ and the probability $P(x)$ of the observing sequence $x$. You need to print $P(x)$ and make explicit if it is in a log space. $x$ is simulated by Question i. For a backwards algorithm example, see Tutorial 6. \n"
   ]
  },
  {
   "cell_type": "code",
   "execution_count": null,
   "metadata": {
    "deletable": false,
    "nbgrader": {
     "checksum": "f0f8bdb4ec3bcba31d78b69bc4341bc4",
     "grade": true,
     "grade_id": "backward",
     "locked": false,
     "points": 1,
     "schema_version": 1,
     "solution": true
    }
   },
   "outputs": [],
   "source": [
    "# your code here\n",
    "raise NotImplementedError\n",
    "# your code finished above"
   ]
  },
  {
   "cell_type": "code",
   "execution_count": null,
   "metadata": {
    "deletable": false,
    "nbgrader": {
     "checksum": "67743b4301d816dd5712169c07ca00bd",
     "grade": true,
     "grade_id": "b-test",
     "locked": false,
     "points": 1,
     "schema_version": 1,
     "solution": true
    }
   },
   "outputs": [],
   "source": [
    "# your code here\n",
    "raise NotImplementedError\n",
    "# your code finished above"
   ]
  },
  {
   "cell_type": "markdown",
   "metadata": {},
   "source": [
    "### iv. Test (1 point)\n",
    "\n",
    "Calculate the matrix __P__ where the ($k,i$)th entry of __P__ is $P(k, i) = Pr(\\pi_i = k|x)$, the posterior probability of being in state $k$ at step $i$. Notice that $P(k, i)$ is not a log probability in the below equation. $F(k, i)$ and $B(k, i)$ are from the anwsers of above questions.  \n",
    "\n",
    "$P(k,i) = Pr(\\pi_i = k | x) = \\frac{F_i(k)B_i(k)}{P(x)}$\n",
    "\n",
    "Print the matrix __P__, and show that your method is correct by checking the column sums of __P__ are all 1.\n"
   ]
  },
  {
   "cell_type": "code",
   "execution_count": null,
   "metadata": {
    "deletable": false,
    "nbgrader": {
     "checksum": "d575107565ff62c9e9c9eaac34bae5d1",
     "grade": true,
     "grade_id": "P",
     "locked": false,
     "points": 1,
     "schema_version": 1,
     "solution": true
    }
   },
   "outputs": [],
   "source": [
    "# your code here\n",
    "raise NotImplementedError\n",
    "# your code finished above"
   ]
  },
  {
   "cell_type": "markdown",
   "metadata": {},
   "source": [
    "### v. Plot (1 point)\n",
    "\n",
    "Make a plot of $Pr(\\pi_i = H|x)$ against the index $i$ (that is, plot $i$ on the horizontal axis and $Pr(\\pi_i = H|x)$ on the vertical axis). To embed the plot in your report, include in the first cell of your notebook the command `%matplotlib inline`"
   ]
  },
  {
   "cell_type": "code",
   "execution_count": null,
   "metadata": {
    "deletable": false,
    "nbgrader": {
     "checksum": "d302294fc4e8538f13853d7f0d3a2f48",
     "grade": true,
     "grade_id": "hmm-plot",
     "locked": false,
     "points": 1,
     "schema_version": 1,
     "solution": true
    }
   },
   "outputs": [],
   "source": [
    "# your code here\n",
    "raise NotImplementedError\n",
    "# your code finished above"
   ]
  },
  {
   "cell_type": "markdown",
   "metadata": {},
   "source": [
    "### vi. Report (1 point)\n",
    "\n",
    "By comparing your plot to the true state sequence $\\pi$, discuss whether or not you think you could accurately find the $\\alpha$-helices in a given protein sequence using this model."
   ]
  },
  {
   "cell_type": "markdown",
   "metadata": {
    "deletable": false,
    "nbgrader": {
     "checksum": "4f1477aaab339d9087387e83083c72cb",
     "grade": true,
     "grade_id": "hmm-report",
     "locked": false,
     "points": 1,
     "schema_version": 1,
     "solution": true
    }
   },
   "source": [
    "YOUR ANSWER HERE"
   ]
  },
  {
   "cell_type": "markdown",
   "metadata": {},
   "source": [
    "## Question 2 MCMC\n",
    "\n",
    "### i. Write a method (1 points)\n",
    "\n",
    "Implement an MCMC algorithm to sample the posterior distribution of the effective population size $N_e$ given the 10-taxa tree simulated by _Simulation.py_ (available on Canvas). The proposal kernel should be a uniform random walk on the parameter $N_e$, so that $\\delta \\sim Unif(-10, 10)$ and $N_e' = N_e + \\delta$. The lower boundary of zero can be treated by reflection or rejection. The target distribution is the coalescent likelihood:\n",
    "\n",
    "$$ p(T|N_e) = \\prod^n_{k=2}\\Big( \\frac{1}{N_e} exp\\Big( − \\frac{k(k−1)t_k}{2N_e} \\Big) \\Big) $$\n",
    "\n",
    "where $t_k$ is the time duration that the tree $T$ has $k$ lineages.\n",
    "\n",
    "\n",
    "You may find that you need to calculation this target distribution in log space to avoid numerical underflow:\n",
    "\n",
    "\n",
    "$$ ln(p(T|N_e)) = \\sum^n_{k=2}\\Big( - ln(N_e) − \\frac{k(k−1)t_k}{2N_e} \\Big) $$\n",
    "\n",
    "\n",
    "The the acceptance probability will be:\n",
    "􏰑\n",
    "\n",
    "$ \\alpha = min 􏰉( 1, exp (p2 - p1) ) $, where\n",
    "proposal state $p2 = ln (p(N_e'|T))$ and \n",
    "current state $p1 = ln (p(N_e|T))$\n",
    "\n",
    "\n",
    "Notice above I gave you the coalescent likelihood, $p(T|N_e)$, not the posterior $p(N_e|T)$, so you need to also define a prior $p(N_e)$ to compute the posterior (up to a constant). If you only use the coalescent likelihood as the target distribution you will be effectively using an (improper) uniform prior. Something like a diffuse log-normal makes a lot more sense.\n",
    "\n",
    "You may test your method by printing out the \"important\" parameters in each state with a short-length run.\n",
    "\n",
    "If the above equations are not displayed properly, you can see them from the attached png files.\n"
   ]
  },
  {
   "cell_type": "code",
   "execution_count": null,
   "metadata": {},
   "outputs": [],
   "source": [
    "%matplotlib inline\n",
    "# Note: the given Python classes are imported successfully only when the plotted tree is shown below, \n",
    "# otherwise please run this cell again.   \n",
    "%run Simulation.py\n",
    "\n",
    "n,Ne=10,100\n",
    "print(\"simulate a coalescent tree with\", n, \"tips and Ne = \", Ne)\n",
    "\n",
    "np.random.seed(1234)\n",
    "tree = coalescent(n,Ne)\n",
    "plot_tree(tree)\n",
    "print(\"the plotted tree height is {:.3f}\".format(tree.get_root().get_height()))"
   ]
  },
  {
   "cell_type": "code",
   "execution_count": null,
   "metadata": {
    "deletable": false,
    "nbgrader": {
     "checksum": "31aadf5aae8e6904f1826750a73aa0dc",
     "grade": true,
     "grade_id": "MCMC",
     "locked": false,
     "points": 1,
     "schema_version": 1,
     "solution": true
    }
   },
   "outputs": [],
   "source": [
    "# your code here\n",
    "raise NotImplementedError\n",
    "# your code finished above"
   ]
  },
  {
   "cell_type": "markdown",
   "metadata": {},
   "source": [
    "### ii. Plot and report (3 points)\n",
    "\n",
    "Give a starting value $N_e = 100$, and run a MCMC with the chain of length 10,000 steps:\n",
    "\n",
    "1. Plot the posterior distribution of $N_e$ simpled from your MCMC run. \n",
    "\n",
    "2. Plot the prior distribution, and report what prior you used.\n",
    "\n",
    "3. Compare 1 and 2 to comment on how you would get a better estimate of the effective population size."
   ]
  },
  {
   "cell_type": "code",
   "execution_count": null,
   "metadata": {
    "deletable": false,
    "nbgrader": {
     "checksum": "7c6bd060b6f79fe5b38d75a6dd52f42f",
     "grade": true,
     "grade_id": "posterior",
     "locked": false,
     "points": 1,
     "schema_version": 1,
     "solution": true
    }
   },
   "outputs": [],
   "source": [
    "# your code here\n",
    "raise NotImplementedError\n",
    "# your code finished above"
   ]
  },
  {
   "cell_type": "code",
   "execution_count": null,
   "metadata": {
    "deletable": false,
    "nbgrader": {
     "checksum": "ccd355dd3e8dc34cc2bf8cce3a184de9",
     "grade": true,
     "grade_id": "prior",
     "locked": false,
     "points": 1,
     "schema_version": 1,
     "solution": true
    }
   },
   "outputs": [],
   "source": [
    "# your code here\n",
    "raise NotImplementedError\n",
    "# your code finished above"
   ]
  },
  {
   "cell_type": "markdown",
   "metadata": {
    "deletable": false,
    "nbgrader": {
     "checksum": "7c7e35d3c1d2b5d9a8dde127fee8e5c8",
     "grade": true,
     "grade_id": "comment",
     "locked": false,
     "points": 1,
     "schema_version": 1,
     "solution": true
    }
   },
   "source": [
    "YOUR ANSWER HERE"
   ]
  },
  {
   "cell_type": "code",
   "execution_count": null,
   "metadata": {},
   "outputs": [],
   "source": []
  }
 ],
 "metadata": {
  "kernelspec": {
   "display_name": "Python 3",
   "language": "python",
   "name": "python3"
  },
  "language_info": {
   "codemirror_mode": {
    "name": "ipython",
    "version": 3
   },
   "file_extension": ".py",
   "mimetype": "text/x-python",
   "name": "python",
   "nbconvert_exporter": "python",
   "pygments_lexer": "ipython3",
   "version": "3.6.8"
  }
 },
 "nbformat": 4,
 "nbformat_minor": 2
}

