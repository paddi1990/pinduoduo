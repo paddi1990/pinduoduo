{
 "cells": [
  {
   "cell_type": "markdown",
   "metadata": {
    "deletable": false,
    "editable": false,
    "nbgrader": {
     "checksum": "b9cf1b82ca9e1198508a529fca0a025a",
     "grade": false,
     "grade_id": "cell-cba503ee6ed424e1",
     "locked": true,
     "schema_version": 1,
     "solution": false
    }
   },
   "source": [
    "# SIADS 502: Math Methods for Data Science \n",
    "\n",
    "\n",
    "# School of Information, University of Michigan\n",
    "\n",
    "\n",
    "## Week 3: Probability/Bayes Rule\n",
    "\n",
    "### Version 1.1\n",
    "\n",
    "This assignment is designed to refresh probability skills as well as apply probability in the context of Bayes' Theorem. Please read the directions carefully, as we want to avoid submissions that are marked incorrect due to formatting mistakes. "
   ]
  },
  {
   "cell_type": "markdown",
   "metadata": {},
   "source": [
    "Plese enter your name =\"\""
   ]
  },
  {
   "cell_type": "markdown",
   "metadata": {
    "deletable": false,
    "editable": false,
    "nbgrader": {
     "checksum": "a233d87c99ddb7a8325f1d0bdec5b3fc",
     "grade": false,
     "grade_id": "cell-e2388f80f2bfa35e",
     "locked": true,
     "schema_version": 1,
     "solution": false
    }
   },
   "source": [
    "## 1. Probability"
   ]
  },
  {
   "cell_type": "markdown",
   "metadata": {
    "deletable": false,
    "editable": false,
    "nbgrader": {
     "checksum": "832ee4884cd7497bef7bc0e7f978040e",
     "grade": false,
     "grade_id": "cell-cbdb2f38375ebce9",
     "locked": true,
     "schema_version": 1,
     "solution": false
    }
   },
   "source": [
    "<strong>1.1</strong> \\[1 pt\\] A college is looking to form a team of 8 to participate in a coding compeition. The team needs at least 2 females and 2 males. If there are 4 males and 7 females who want to join the competition, how many different ways can the team be formed? Please store your answer as an integer (e.g. ANS1 = 1) into the variable <strong>ANS1</strong>."
   ]
  },
  {
   "cell_type": "code",
   "execution_count": null,
   "metadata": {
    "deletable": false,
    "nbgrader": {
     "checksum": "2240dac7ec8f972d8389fde2fd096edc",
     "grade": false,
     "grade_id": "cell-ee2bd7ab2781aa26",
     "locked": false,
     "schema_version": 1,
     "solution": true
    },
    "pycharm": {
     "is_executing": false
    }
   },
   "outputs": [],
   "source": [
    "import math\n",
    "import numpy as np\n",
    "import numbers\n",
    "\n",
    "ANS1=None\n",
    "# YOUR CODE HERE\n",
    "raise NotImplementedError()"
   ]
  },
  {
   "cell_type": "code",
   "execution_count": null,
   "metadata": {
    "deletable": false,
    "editable": false,
    "nbgrader": {
     "checksum": "825c48e8b66d85112a883aee1ebb7def",
     "grade": true,
     "grade_id": "cell-2380314f88f56d22",
     "locked": true,
     "points": 1,
     "schema_version": 1,
     "solution": false
    }
   },
   "outputs": [],
   "source": [
    "assert type(ANS1) == int, \"Problem 1.1, testing ANS1, type of value stored in variable does not match the expected type. Expecting Integer\""
   ]
  },
  {
   "cell_type": "markdown",
   "metadata": {
    "deletable": false,
    "editable": false,
    "nbgrader": {
     "checksum": "d2010e5da278cd5e119a797f9b8cd6e6",
     "grade": false,
     "grade_id": "cell-60e86babc0baaefd",
     "locked": true,
     "schema_version": 1,
     "solution": false
    }
   },
   "source": [
    "## 2. Conditional Probability"
   ]
  },
  {
   "cell_type": "markdown",
   "metadata": {
    "deletable": false,
    "editable": false,
    "nbgrader": {
     "checksum": "e15356d29be1a2e3d3cea8c6b6f7caf0",
     "grade": false,
     "grade_id": "cell-64709019ea754f4d",
     "locked": true,
     "schema_version": 1,
     "solution": false
    }
   },
   "source": [
    "At a school, 40% of the students speak Spanish, 25% of the students speak German, and 15% of the students speak both of the langugues. Now, randomly pick a student. \n",
    "\n",
    "<strong>2.1</strong> \\[1 pt\\] Given that they speak Spanish, what is the probability that they also speak German? Store your answer in the variable <strong>ANS21</strong>.  For grading (on this and future problems) store the answer as accurately as possible using standard python data types.  For example, if the answer is 1/3, set ANS2 = 1/3 instead of .3333."
   ]
  },
  {
   "cell_type": "code",
   "execution_count": null,
   "metadata": {
    "deletable": false,
    "nbgrader": {
     "checksum": "8ad6aec386bc07aebe54d9ffbe59787c",
     "grade": false,
     "grade_id": "cell-8566435eee91457e",
     "locked": false,
     "schema_version": 1,
     "solution": true
    }
   },
   "outputs": [],
   "source": [
    "ANS21 = None\n",
    "# YOUR CODE HERE\n",
    "raise NotImplementedError()"
   ]
  },
  {
   "cell_type": "code",
   "execution_count": null,
   "metadata": {
    "deletable": false,
    "editable": false,
    "nbgrader": {
     "checksum": "9f2150c071f708f172aa634f6fd5f752",
     "grade": true,
     "grade_id": "cell-557a697b7229071a",
     "locked": true,
     "points": 1,
     "schema_version": 1,
     "solution": false
    }
   },
   "outputs": [],
   "source": [
    "assert isinstance(ANS21, numbers.Number), \"Problem 2.1, testing ANS21, type of value stored in variable does not match the expected type. Expecting Float.\""
   ]
  },
  {
   "cell_type": "markdown",
   "metadata": {
    "deletable": false,
    "editable": false,
    "nbgrader": {
     "checksum": "951e4f8e63c2b75d3734536b81f55ee4",
     "grade": false,
     "grade_id": "cell-dee377764f1c9eb2",
     "locked": true,
     "schema_version": 1,
     "solution": false
    }
   },
   "source": [
    "<strong>2.2</strong> \\[1 pt\\] Given that they do not speak German, what is the probability that they speak Spanish? Store answer in variable <strong>ANS22</strong>.  "
   ]
  },
  {
   "cell_type": "code",
   "execution_count": null,
   "metadata": {
    "deletable": false,
    "nbgrader": {
     "checksum": "5462629b7f657a967ef01589ddef6610",
     "grade": false,
     "grade_id": "cell-d8a6247556748dcc",
     "locked": false,
     "schema_version": 1,
     "solution": true
    },
    "pycharm": {
     "is_executing": false
    }
   },
   "outputs": [],
   "source": [
    "ANS22=None\n",
    "# YOUR CODE HERE\n",
    "raise NotImplementedError()"
   ]
  },
  {
   "cell_type": "code",
   "execution_count": null,
   "metadata": {
    "deletable": false,
    "editable": false,
    "nbgrader": {
     "checksum": "a36cbe537bed9da815b48240ca6be506",
     "grade": true,
     "grade_id": "cell-0c3c06d832ee2f42",
     "locked": true,
     "points": 1,
     "schema_version": 1,
     "solution": false
    },
    "pycharm": {
     "is_executing": false
    }
   },
   "outputs": [],
   "source": [
    "assert isinstance(ANS22, numbers.Number), \"Problem 2.2, testing ANS22, type of value stored in variable does not match the expected type. Expecting Float.\""
   ]
  },
  {
   "cell_type": "markdown",
   "metadata": {
    "deletable": false,
    "editable": false,
    "nbgrader": {
     "checksum": "62717298c5150a9af5ab46494bf5705a",
     "grade": false,
     "grade_id": "cell-59bcfa438bc13995",
     "locked": true,
     "schema_version": 1,
     "solution": false
    }
   },
   "source": [
    "## 3. Independent Probability "
   ]
  },
  {
   "cell_type": "markdown",
   "metadata": {
    "deletable": false,
    "editable": false,
    "nbgrader": {
     "checksum": "26b03ea528914cfe75880237c26b3d59",
     "grade": false,
     "grade_id": "cell-dd385e7b09d20bde",
     "locked": true,
     "schema_version": 1,
     "solution": false
    }
   },
   "source": [
    "Tom and Lily are trying to solve a problem. The probability of Tom successfully solving the problem is 0.4 and the probability of Lily successfully solving the problem is 0.5. They do not influence each other when they are solving the problem. For each solution, store the value as accurately as you can (ex. ANS = 2/9 instead of .2222).\n",
    "\n",
    "<strong>3.1</strong> \\[1 pt\\] What is the probability that both of them sucessfully solve the problem? Please store your answer to the variable <strong>ANS31</strong>."
   ]
  },
  {
   "cell_type": "code",
   "execution_count": null,
   "metadata": {
    "deletable": false,
    "nbgrader": {
     "checksum": "8f1edea9d859df22fb5d69298d91c28a",
     "grade": false,
     "grade_id": "cell-a89dfc965132afad",
     "locked": false,
     "schema_version": 1,
     "solution": true
    }
   },
   "outputs": [],
   "source": [
    "ANS31 = None\n",
    "# YOUR CODE HERE\n",
    "raise NotImplementedError()"
   ]
  },
  {
   "cell_type": "code",
   "execution_count": null,
   "metadata": {
    "deletable": false,
    "editable": false,
    "nbgrader": {
     "checksum": "698dd2149f28533822e96356157b6e05",
     "grade": true,
     "grade_id": "cell-4d4bf277ef89e5a1",
     "locked": true,
     "points": 1,
     "schema_version": 1,
     "solution": false
    }
   },
   "outputs": [],
   "source": [
    "assert isinstance(ANS31, numbers.Number), \"Problem 3.1, testing ANS31, type of value stored in variable does not match the expected type. Expecting Float.\""
   ]
  },
  {
   "cell_type": "markdown",
   "metadata": {
    "deletable": false,
    "editable": false,
    "nbgrader": {
     "checksum": "99a5fff2584f2f1275f86ea8f223a6b6",
     "grade": false,
     "grade_id": "cell-71bb140cdec6a3a6",
     "locked": true,
     "schema_version": 1,
     "solution": false
    }
   },
   "source": [
    "<strong>3.2</strong> \\[1 pt\\] What is the probability that only one of them successfully solves the problem? Please store your answer to the variable <strong>ANS32</strong>. "
   ]
  },
  {
   "cell_type": "code",
   "execution_count": null,
   "metadata": {
    "deletable": false,
    "nbgrader": {
     "checksum": "7762a760700f3a291757b8704d6ce41c",
     "grade": false,
     "grade_id": "cell-e55df99dc649e767",
     "locked": false,
     "schema_version": 1,
     "solution": true
    }
   },
   "outputs": [],
   "source": [
    "ANS32=None\n",
    "# YOUR CODE HERE\n",
    "raise NotImplementedError()"
   ]
  },
  {
   "cell_type": "code",
   "execution_count": null,
   "metadata": {
    "deletable": false,
    "editable": false,
    "nbgrader": {
     "checksum": "6e514c26da767fc080cf665a0ab20180",
     "grade": true,
     "grade_id": "cell-04bf980d4b26a9f0",
     "locked": true,
     "points": 1,
     "schema_version": 1,
     "solution": false
    }
   },
   "outputs": [],
   "source": [
    "assert isinstance(ANS32, numbers.Number), \"Problem 3.2, testing ANS32, type of value stored in variable does not match the expected type. Expecting Float.\""
   ]
  },
  {
   "cell_type": "markdown",
   "metadata": {
    "deletable": false,
    "editable": false,
    "nbgrader": {
     "checksum": "19d2177bc38b6b1a9781db41e4afbfab",
     "grade": false,
     "grade_id": "cell-2a79ba0a2e386a2d",
     "locked": true,
     "schema_version": 1,
     "solution": false
    }
   },
   "source": [
    "<strong>3.3</strong> \\[1 pt\\] Given that **only** one of them successfully solved the problem, what is the probability that the person is Tom?\n",
    "Please store your answer to the variable <strong>ANS33</strong>. "
   ]
  },
  {
   "cell_type": "code",
   "execution_count": null,
   "metadata": {
    "deletable": false,
    "nbgrader": {
     "checksum": "c40dbd165a8b611df4918711290eddfe",
     "grade": false,
     "grade_id": "cell-9cd919f33acab2ef",
     "locked": false,
     "schema_version": 1,
     "solution": true
    }
   },
   "outputs": [],
   "source": [
    "ANS33 = None \n",
    "# YOUR CODE HERE\n",
    "raise NotImplementedError()"
   ]
  },
  {
   "cell_type": "code",
   "execution_count": null,
   "metadata": {
    "deletable": false,
    "editable": false,
    "nbgrader": {
     "checksum": "c11dc24b1e5b05722a65999d0331049c",
     "grade": true,
     "grade_id": "cell-9beab75a7dab793d",
     "locked": true,
     "points": 1,
     "schema_version": 1,
     "solution": false
    }
   },
   "outputs": [],
   "source": [
    "assert isinstance(ANS33, numbers.Number), \"Problem 3.3, testing ANS33, type of value stored in variable does not match the expected type. Expecting Float.\""
   ]
  },
  {
   "cell_type": "markdown",
   "metadata": {
    "deletable": false,
    "editable": false,
    "nbgrader": {
     "checksum": "21719e1c94c34b9306bc49acfb9957bd",
     "grade": false,
     "grade_id": "cell-d6fec34d29792320",
     "locked": true,
     "schema_version": 1,
     "solution": false
    }
   },
   "source": [
    "## 4. Bayes Rule"
   ]
  },
  {
   "cell_type": "markdown",
   "metadata": {
    "deletable": false,
    "editable": false,
    "nbgrader": {
     "checksum": "6daef199c6ad6584a88dc76c80815ec3",
     "grade": false,
     "grade_id": "cell-3f3407378ca208c3",
     "locked": true,
     "schema_version": 1,
     "solution": false
    }
   },
   "source": [
    "Suppose that you are an art dealer for Van Gogh paintings. Whenever someone brings in a painting that they claim is from Van Gogh, you send in the painting for pigment analysis. Pigment analysis successfully identifies 90% of Van Gogh paintings and falsely identifies 20% of forgeries as being from Van Gogh. In your experience, 99% of the paintings that people bring to you are forgeries.\n",
    "\n",
    "<strong>4.1</strong> \\[1 pt\\] Use Bayes theorem to calculate the chance that a painting is from Van Gogh if the pigment analysis finds that it is from Van Gogh. Store your answer in the variable <strong>ANS41</strong> as accurately as possible."
   ]
  },
  {
   "cell_type": "code",
   "execution_count": null,
   "metadata": {
    "deletable": false,
    "nbgrader": {
     "checksum": "193b6d613cb76513b01a3c92202ba7cf",
     "grade": false,
     "grade_id": "cell-f68142d6a4ebf595",
     "locked": false,
     "schema_version": 1,
     "solution": true
    }
   },
   "outputs": [],
   "source": [
    "ANS41 = None\n",
    "# YOUR CODE HERE\n",
    "raise NotImplementedError()\n",
    "#print(type(ANS41))"
   ]
  },
  {
   "cell_type": "code",
   "execution_count": null,
   "metadata": {
    "deletable": false,
    "editable": false,
    "nbgrader": {
     "checksum": "cd6c3c6a330468f5abde7c107be73360",
     "grade": true,
     "grade_id": "cell-c32efd59d0bc94f7",
     "locked": true,
     "points": 1,
     "schema_version": 1,
     "solution": false
    }
   },
   "outputs": [],
   "source": [
    "assert isinstance(ANS41, numbers.Number), \"Problem 4.1, testing ANS41, type of value stored in variable does not match the expected type. Expecting Float.\""
   ]
  },
  {
   "cell_type": "markdown",
   "metadata": {
    "deletable": false,
    "editable": false,
    "nbgrader": {
     "checksum": "e29c58d8a7b2a2fe9b9bf24dcf00a680",
     "grade": false,
     "grade_id": "cell-d6fec34d29792333",
     "locked": true,
     "schema_version": 1,
     "solution": false
    }
   },
   "source": [
    "## 5. Expectation and Variance"
   ]
  },
  {
   "cell_type": "markdown",
   "metadata": {
    "deletable": false,
    "editable": false,
    "nbgrader": {
     "checksum": "f37509c03c25bc10681fd73262dd9888",
     "grade": false,
     "grade_id": "cell-3f3407378ca208c6",
     "locked": true,
     "schema_version": 1,
     "solution": false
    }
   },
   "source": [
    "In a state park, a lost person arrives at a fork with 3 roads: <br>\n",
    "• The first road leads back to the same point after 1 hour of walking.<br>\n",
    "• The second road leads back to the same point after 2 hours of walking.<br>\n",
    "• The third road leads to the parking lot after 5 hours of walking. <br>\n",
    "There are no signs on the roads.\n",
    "\n",
    "<strong>5.1</strong> \\[2 pt\\]  Assuming that the lost person always chooses each road with equal probability, what is the expected amount of time until the tourist arrives at the parking lot?  Store your answer in the variable <strong>ANS51</strong> as accurately as possible."
   ]
  },
  {
   "cell_type": "code",
   "execution_count": null,
   "metadata": {
    "deletable": false,
    "nbgrader": {
     "checksum": "8de3836c549c03556e9acf63c57904ab",
     "grade": false,
     "grade_id": "cell-f68142d6a4ebf596",
     "locked": false,
     "schema_version": 1,
     "solution": true
    }
   },
   "outputs": [],
   "source": [
    "ANS51 = None\n",
    "# YOUR CODE HERE\n",
    "raise NotImplementedError()\n",
    "#print(type(ANS41))"
   ]
  },
  {
   "cell_type": "code",
   "execution_count": null,
   "metadata": {
    "deletable": false,
    "editable": false,
    "nbgrader": {
     "checksum": "98bf2e4b5543036d46aed86d036e8651",
     "grade": true,
     "grade_id": "cell-c32efd59d0bc94f3",
     "locked": true,
     "points": 2,
     "schema_version": 1,
     "solution": false
    }
   },
   "outputs": [],
   "source": [
    "assert isinstance(ANS51, numbers.Number), \"Problem 5.1, testing ANS51, type of value stored in variable does not match the expected type. Expecting Float.\""
   ]
  },
  {
   "cell_type": "markdown",
   "metadata": {
    "deletable": false,
    "editable": false,
    "nbgrader": {
     "checksum": "3693df46313e46fa829801ff9485ba8a",
     "grade": false,
     "grade_id": "cell-d9a9a78d56def095",
     "locked": true,
     "schema_version": 1,
     "solution": false
    }
   },
   "source": [
    "<strong>5.2</strong> \\[2 pt\\]  What is the expectation and variance of the sum of the roll of two dice?   Store your answer as a tuple in the variable <strong>ANS52</strong> as accurately as possible."
   ]
  },
  {
   "cell_type": "code",
   "execution_count": null,
   "metadata": {
    "deletable": false,
    "nbgrader": {
     "checksum": "0b904640e2500762737566bed7c130b3",
     "grade": false,
     "grade_id": "cell-bbd9380cfee320a3",
     "locked": false,
     "schema_version": 1,
     "solution": true
    }
   },
   "outputs": [],
   "source": [
    "ANS52 = None\n",
    "# YOUR CODE HERE\n",
    "raise NotImplementedError()"
   ]
  },
  {
   "cell_type": "code",
   "execution_count": null,
   "metadata": {
    "deletable": false,
    "editable": false,
    "nbgrader": {
     "checksum": "22a3da4d98256ada85765a330cc0d4dd",
     "grade": true,
     "grade_id": "cell-402ceeaf0297d261",
     "locked": true,
     "points": 2,
     "schema_version": 1,
     "solution": false
    }
   },
   "outputs": [],
   "source": [
    "assert len(ANS52) == 2,  \"Problem 5.2, testing ANS52, type of value stored in variable does not match the expected type. Tuple.\" \n",
    "assert isinstance(ANS52[0], numbers.Number) and isinstance(ANS52[1], numbers.Number) , \"Problem 5.2, testing ANS52, type of values stored in tuples do not match the expected type. Expecting Float.\""
   ]
  },
  {
   "cell_type": "markdown",
   "metadata": {
    "deletable": false,
    "editable": false,
    "nbgrader": {
     "checksum": "328c8af5da8e6ca7032e8cc7774f5ce6",
     "grade": false,
     "grade_id": "cell-328574ffebd2bb82",
     "locked": true,
     "schema_version": 1,
     "solution": false
    }
   },
   "source": [
    "## 6. Monte Carlo Method\n",
    "\n"
   ]
  },
  {
   "cell_type": "markdown",
   "metadata": {
    "deletable": false,
    "editable": false,
    "nbgrader": {
     "checksum": "08544324781c2249502a6281aad7d195",
     "grade": false,
     "grade_id": "cell-c2a469261bc4c230",
     "locked": true,
     "schema_version": 1,
     "solution": false
    }
   },
   "source": [
    "<strong>6.1</strong> \\[2 pt\\]  You receive one of five distinct coupons uniformily at random each day.  Use the Monte Carlo Method to estimate to within .01 days, the expected number of days until you collect two copies of each of the five coupons.  Record your answer in <strong>ANS61</strong>."
   ]
  },
  {
   "cell_type": "code",
   "execution_count": null,
   "metadata": {
    "deletable": false,
    "nbgrader": {
     "checksum": "ef54dca2119de9a02dd1acecbd0d6c4a",
     "grade": false,
     "grade_id": "cell-ceb4705829e49a2c",
     "locked": false,
     "schema_version": 1,
     "solution": true
    }
   },
   "outputs": [],
   "source": [
    "ANS61 = None\n",
    "# YOUR CODE HERE\n",
    "raise NotImplementedError()\n"
   ]
  },
  {
   "cell_type": "code",
   "execution_count": null,
   "metadata": {
    "deletable": false,
    "editable": false,
    "nbgrader": {
     "checksum": "5a33486600d7414d47193c403a74fb10",
     "grade": true,
     "grade_id": "cell-24a0cb9f1d006a9b",
     "locked": true,
     "points": 2,
     "schema_version": 1,
     "solution": false
    }
   },
   "outputs": [],
   "source": [
    "assert isinstance(ANS61, numbers.Number), \"Problem 6.1, testing ANS61, type of value stored in variable does not match the expected type. Expecting Float.\""
   ]
  },
  {
   "cell_type": "markdown",
   "metadata": {
    "deletable": false,
    "editable": false,
    "nbgrader": {
     "checksum": "aa2a223e2fed60a1c18db1beb80dfdb2",
     "grade": false,
     "grade_id": "cell-08fb1afe11cc26f1",
     "locked": true,
     "schema_version": 1,
     "solution": false
    }
   },
   "source": [
    "<strong>6.2</strong> \\[2 pt\\]  There are 30 coins.  While 29 of them are fair, 1 of them flips heads with probability 60%.  You flip all 30 coins 100 times.  Use the Monte Carlo method to compute within .1% the probability that the unfair coin is in set of 10 coins that land heads most often?  (Count the event, that the biased coin is tied with the 10th most common fair coin).   Record your answer in <strong>ANS62</strong>.\n",
    "\n",
    "Hint: use np.random.binomial to speed up simulation.  A binomial variable with parameters n and p is the number of heads resulting from flipping n coins, where each has probability p of landing heads. "
   ]
  },
  {
   "cell_type": "code",
   "execution_count": null,
   "metadata": {
    "deletable": false,
    "nbgrader": {
     "checksum": "300b6cecc99580a49cd915eb852fc097",
     "grade": false,
     "grade_id": "cell-49d189d155b7bffe",
     "locked": false,
     "schema_version": 1,
     "solution": true
    }
   },
   "outputs": [],
   "source": [
    "ANS62 = None\n",
    "# YOUR CODE HERE\n",
    "raise NotImplementedError()\n"
   ]
  },
  {
   "cell_type": "code",
   "execution_count": null,
   "metadata": {
    "deletable": false,
    "editable": false,
    "nbgrader": {
     "checksum": "1072809d7ce72f0fdae8d0c769152584",
     "grade": true,
     "grade_id": "cell-691ed4f14f4a3360",
     "locked": true,
     "points": 2,
     "schema_version": 1,
     "solution": false
    }
   },
   "outputs": [],
   "source": [
    "assert isinstance(ANS62, numbers.Number), \"Problem 6.2, testing ANS62, type of value stored in variable does not match the expected type. Expecting Float.\""
   ]
  }
 ],
 "metadata": {
  "coursera": {
   "schema_names": [
    "mads_math_methods_for_data_science_v3_assignment3"
   ]
  },
  "kernelspec": {
   "display_name": "Python 3",
   "language": "python",
   "name": "python3"
  },
  "language_info": {
   "codemirror_mode": {
    "name": "ipython",
    "version": 3
   },
   "file_extension": ".py",
   "mimetype": "text/x-python",
   "name": "python",
   "nbconvert_exporter": "python",
   "pygments_lexer": "ipython3",
   "version": "3.7.6"
  },
  "pycharm": {
   "stem_cell": {
    "cell_type": "raw",
    "metadata": {
     "collapsed": false
    },
    "source": []
   }
  }
 },
 "nbformat": 4,
 "nbformat_minor": 2
}
